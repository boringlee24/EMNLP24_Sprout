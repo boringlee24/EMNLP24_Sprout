{
 "cells": [
  {
   "cell_type": "code",
   "execution_count": 1,
   "metadata": {},
   "outputs": [],
   "source": [
    "import json"
   ]
  },
  {
   "cell_type": "code",
   "execution_count": null,
   "metadata": {},
   "outputs": [],
   "source": [
    "datasets = {\"alpaca\": \"alpaca_5000\",\n",
    "            \"math\": \"math_all\",\n",
    "            \"mmlu\": \"mmlu_5000\",\n",
    "            \"naturalqa\": \"naturalqa_5000\",\n",
    "            \"triviaqa\": \"triviaqa_5000\",\n",
    "            \"scienceqa\": \"scienceqa_5000\",}\n",
    "lvls = [\"13b\", \"brief_13b\", \"brief+_13b\"]"
   ]
  },
  {
   "cell_type": "code",
   "execution_count": null,
   "metadata": {},
   "outputs": [],
   "source": [
    "output = {}\n",
    "\n",
    "for dataset in datasets:\n",
    "    time_and_energy_data = {}\n",
    "    for lvl in lvls:\n",
    "        with open(f\"{datasets[dataset]}_{lvl}-chat.json\") as f:\n",
    "            time_and_energy_data[lvl] = json.load(f)\n",
    "\n",
    "    output[dataset] = {}\n",
    "    with open(f\"../../prompts/prompt_{datasets[dataset]}.json\") as f:\n",
    "        prompts = json.load(f)\n",
    "    for i, prompt_val in enumerate(prompts):\n",
    "        prompt = prompt_val[0][\"content\"]\n",
    "        output[dataset][prompt] = {}\n",
    "        energy_list = [time_and_energy_data[lvl][\"energy\"][i] for lvl in lvls]\n",
    "        time_list = [time_and_energy_data[lvl][\"time\"][i] for lvl in lvls]\n",
    "        output[dataset][prompt][\"energy\"] = energy_list\n",
    "        output[dataset][prompt][\"time\"] = time_list\n",
    "\n",
    "with open(\"summary.json\", \"w\") as f:\n",
    "    json.dump(output, f, indent=4)"
   ]
  },
  {
   "cell_type": "code",
   "execution_count": null,
   "metadata": {},
   "outputs": [],
   "source": []
  }
 ],
 "metadata": {
  "kernelspec": {
   "display_name": "llm",
   "language": "python",
   "name": "python3"
  },
  "language_info": {
   "codemirror_mode": {
    "name": "ipython",
    "version": 3
   },
   "file_extension": ".py",
   "mimetype": "text/x-python",
   "name": "python",
   "nbconvert_exporter": "python",
   "pygments_lexer": "ipython3",
   "version": "3.9.18"
  }
 },
 "nbformat": 4,
 "nbformat_minor": 2
}
