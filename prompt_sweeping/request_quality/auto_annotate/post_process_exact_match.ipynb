{
 "cells": [
  {
   "cell_type": "code",
   "execution_count": 1,
   "metadata": {},
   "outputs": [],
   "source": [
    "%matplotlib inline\n",
    "import numpy as np\n",
    "import matplotlib\n",
    "matplotlib.rcParams['pdf.fonttype'] = 42\n",
    "matplotlib.rcParams['ps.fonttype'] = 42\n",
    "import matplotlib.pyplot as plt\n",
    "import json\n",
    "from matplotlib.ticker import MultipleLocator\n",
    "from glob import glob\n",
    "import csv\n"
   ]
  },
  {
   "cell_type": "markdown",
   "metadata": {},
   "source": [
    "# Process helpful_base (Alpaca)"
   ]
  },
  {
   "cell_type": "code",
   "execution_count": 2,
   "metadata": {},
   "outputs": [
    {
     "name": "stdout",
     "output_type": "stream",
     "text": [
      "encountered null in brief_vs_13b\n",
      "encountered null in brief_vs_13b\n",
      "encountered null in brief_vs_13b\n"
     ]
    }
   ],
   "source": [
    "testcase = \"helpful_base\"\n",
    "json_files = glob(f\"{testcase}/result_*/*/annotations.json\")\n",
    "csv_data = [[\"entity\", \"reference\", \"rate(%)\"]]\n",
    "comparators = []\n",
    "for json_file in json_files:\n",
    "    with open(json_file) as f:\n",
    "        data = json.load(f)\n",
    "    comparator = json_file.split(\"/\")[1].replace(\"result_\",\"\")\n",
    "    comparators.append(comparator)\n",
    "    # go through annotations.json\n",
    "    entity_win = 0 #\n",
    "    \n",
    "    for item in data:\n",
    "        raw_completion = item[\"raw_completion\"]\n",
    "        if not raw_completion:\n",
    "            print(f\"encountered null in {comparator}\")\n",
    "            continue\n",
    "        if item[\"annotator\"] == \"alpaca_eval_gpt4\":\n",
    "            if \"'model': 'model_2', 'rank': 1\" in raw_completion:\n",
    "                entity_win += 1\n",
    "        elif item[\"annotator\"] == \"gpt4_turbo\":\n",
    "            if \"Output (b)\" == raw_completion:\n",
    "                entity_win += 1\n",
    "    win_rate = round(entity_win / len(data) * 100, 2)\n",
    "    csv_data.append([comparator.split(\"_vs_\")[0], comparator.split(\"_vs_\")[1], win_rate])\n",
    "\n",
    "with open(f\"{testcase}.csv\", \"w\", newline=\"\") as f:\n",
    "    writer = csv.writer(f)\n",
    "    writer.writerows(csv_data)"
   ]
  },
  {
   "cell_type": "markdown",
   "metadata": {},
   "source": [
    "# Process MMLU and ScienceQA"
   ]
  },
  {
   "cell_type": "code",
   "execution_count": 3,
   "metadata": {},
   "outputs": [],
   "source": [
    "testcases = [\"mmlu\", \"scienceqa\"]\n",
    "for testcase in testcases:\n",
    "    json_files = glob(f\"{testcase}/result_*/*/annotations.json\")\n",
    "    csv_data = [[\"entity\", \"reference\", \"rate(%)\"]]\n",
    "    comparators = []\n",
    "    for json_file in json_files:\n",
    "        with open(json_file) as f:\n",
    "            data = json.load(f)\n",
    "        comparator = json_file.split(\"/\")[1].replace(\"result_\",\"\")\n",
    "        comparators.append(comparator)\n",
    "        # go through annotations.json\n",
    "        entity_win = 0 #\n",
    "        \n",
    "        for item in data:\n",
    "            raw_completion = item[\"raw_completion\"]\n",
    "            if not raw_completion:\n",
    "                print(f\"encountered null in {comparator}\")\n",
    "                continue\n",
    "            if \"Match (Y)\" == raw_completion:\n",
    "                entity_win += 1\n",
    "        win_rate = round(entity_win / len(data) * 100, 2)\n",
    "        csv_data.append([comparator.split(\"_vs_\")[0], comparator.split(\"_vs_\")[1], win_rate])\n",
    "\n",
    "    with open(f\"{testcase}.csv\", \"w\", newline=\"\") as f:\n",
    "        writer = csv.writer(f)\n",
    "        writer.writerows(csv_data)"
   ]
  },
  {
   "cell_type": "markdown",
   "metadata": {},
   "source": [
    "# Process TriviaQA and NaturalQA"
   ]
  },
  {
   "cell_type": "code",
   "execution_count": 4,
   "metadata": {},
   "outputs": [],
   "source": [
    "testcases = [\"triviaqa\", \"naturalqa\"]\n",
    "for testcase in testcases:\n",
    "    json_files = glob(f\"{testcase}/result_*/*/annotations.json\")\n",
    "    csv_data = [[\"entity\", \"reference\", \"rate(%)\"]]\n",
    "    comparators = []\n",
    "    for json_file in json_files:\n",
    "        with open(json_file) as f:\n",
    "            data = json.load(f)\n",
    "        comparator = json_file.split(\"/\")[1].replace(\"result_\",\"\")\n",
    "        comparators.append(comparator)\n",
    "        # go through annotations.json\n",
    "        entity_win = 0 #\n",
    "        \n",
    "        for item in data:\n",
    "            raw_completion = item[\"raw_completion\"]\n",
    "            if not raw_completion:\n",
    "                print(f\"encountered null in {comparator}\")\n",
    "                continue\n",
    "            if \"Correct (Y)\" == raw_completion:\n",
    "                entity_win += 1\n",
    "        win_rate = round(entity_win / len(data) * 100, 2)\n",
    "        csv_data.append([comparator.split(\"_vs_\")[0], comparator.split(\"_vs_\")[1], win_rate])\n",
    "\n",
    "    with open(f\"{testcase}.csv\", \"w\", newline=\"\") as f:\n",
    "        writer = csv.writer(f)\n",
    "        writer.writerows(csv_data)"
   ]
  }
 ],
 "metadata": {
  "kernelspec": {
   "display_name": "llm",
   "language": "python",
   "name": "python3"
  },
  "language_info": {
   "codemirror_mode": {
    "name": "ipython",
    "version": 3
   },
   "file_extension": ".py",
   "mimetype": "text/x-python",
   "name": "python",
   "nbconvert_exporter": "python",
   "pygments_lexer": "ipython3",
   "version": "3.8.18"
  }
 },
 "nbformat": 4,
 "nbformat_minor": 2
}
