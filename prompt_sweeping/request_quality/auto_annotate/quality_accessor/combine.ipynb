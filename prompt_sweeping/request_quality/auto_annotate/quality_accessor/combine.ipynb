{
 "cells": [
  {
   "cell_type": "markdown",
   "metadata": {},
   "source": [
    "# Combine multiple datasets into one json"
   ]
  },
  {
   "cell_type": "code",
   "execution_count": 4,
   "metadata": {},
   "outputs": [],
   "source": [
    "import json\n",
    "from pathlib import Path\n",
    "from glob import glob\n",
    "datasets = [\"scienceqa\"]#[\"alpaca\", \"mmlu\", \"naturalqa\", \"triviaqa\", \"math\"]\n",
    "num_samples = 2000\n",
    "testcases = [\"13b\", \"7b\"]#[\"13b\", \"brief_13b\", \"brief+_13b\"]\n",
    "\n",
    "for tc in testcases:\n",
    "    output_dir = f\"sample_{num_samples}_science_vs_7b\"\n",
    "    Path(output_dir).mkdir(parents=True, exist_ok=True)\n",
    "    combined = []\n",
    "    for dataset in datasets:\n",
    "        dataset_samples = \"all\" if dataset == \"math\" else 5000\n",
    "        file_path = f\"../{dataset}/samples_{num_samples}_seed_0/{dataset}_{dataset_samples}_{tc}.json\"\n",
    "        assert len(glob(file_path)) == 1, \"More than one file found!\"\n",
    "        path = glob(file_path)[0]\n",
    "        with open(path) as f:\n",
    "            read = json.load(f)\n",
    "        combined.extend(read)\n",
    "    with open(f\"{output_dir}/combined_{tc}.json\", \"w\") as f:\n",
    "        json.dump(combined, f, indent=4)"
   ]
  },
  {
   "cell_type": "markdown",
   "metadata": {},
   "source": [
    "# Analyze the GPT4 evaluation"
   ]
  },
  {
   "cell_type": "code",
   "execution_count": 3,
   "metadata": {},
   "outputs": [
    {
     "name": "stdout",
     "output_type": "stream",
     "text": [
      "summary_2000.json -- scienceqa: {0: 482, 1: 690, 2: 828}\n"
     ]
    }
   ],
   "source": [
    "import json\n",
    "files = [\"summary_2000.json\"]\n",
    "for f_name in files:\n",
    "    with open(f_name) as f:\n",
    "        read = json.load(f)\n",
    "    for key, item in read.items():\n",
    "        count = {0: 0, 1: 0, 2: 0}\n",
    "        for prompt_dict in item:\n",
    "            count[prompt_dict[\"assistance_lvl\"]] += 1\n",
    "        print(f\"{f_name} -- {key}: {count}\")\n"
   ]
  },
  {
   "cell_type": "markdown",
   "metadata": {},
   "source": [
    "# Merge ScienceQA into the previous evaluation"
   ]
  },
  {
   "cell_type": "code",
   "execution_count": 3,
   "metadata": {},
   "outputs": [],
   "source": [
    "import json\n",
    "\n",
    "summary = \"details\"\n",
    "with open(f\"assessment_results/vs_7b/details_2000.json\") as f:\n",
    "    A = json.load(f)\n",
    "with open(\"assessment_results/science_vs_7b/details_2000.json\") as f:\n",
    "    B = json.load(f)\n",
    "\n",
    "if summary == \"summary\":\n",
    "    C = {**A, **B}\n",
    "elif summary == \"details\":\n",
    "    C = A + B\n",
    "\n",
    "with open(\"assessment_results/vs_7b/details_2000.json\", \"w\") as f:\n",
    "    json.dump(C, f, indent=4)\n"
   ]
  },
  {
   "cell_type": "markdown",
   "metadata": {},
   "source": [
    "# Correct some errors in assessment_results"
   ]
  },
  {
   "cell_type": "code",
   "execution_count": 1,
   "metadata": {},
   "outputs": [
    {
     "name": "stdout",
     "output_type": "stream",
     "text": [
      "Invalid winner: r\n"
     ]
    }
   ],
   "source": [
    "import json\n",
    "\n",
    "summary = {}\n",
    "with open(\"assessment_results/vs_7b/details_2000.json\") as f:\n",
    "    annotations = json.load(f)\n",
    "for item in annotations:\n",
    "    winner = item[\"raw_completion\"][8]\n",
    "    if winner != \"1\" and winner != \"2\":\n",
    "        print(f\"Invalid winner: {item[\"raw_completion\"]}\")\n",
    "        winner = \"1\"\n",
    "    dataset = item[\"dataset_1\"]\n",
    "    winner_key = f\"generator_{winner}\"\n",
    "    if \"_7b\" in item[winner_key]:\n",
    "        winner_prompt = 1\n",
    "    elif \"_13b\" in item[winner_key]:\n",
    "        winner_prompt = 0\n",
    "    else:\n",
    "        raise ValueError(f\"Invalid prompt: {item[winner_key]}\")\n",
    "    if dataset not in summary:\n",
    "        summary[dataset] = []\n",
    "    summary[dataset].append({\n",
    "        \"instruction\": item[\"instruction\"],\n",
    "        \"assistance_lvl\": winner_prompt,\n",
    "    })\n",
    "with open(\"assessment_results/vs_7b/summary_2000.json\", \"w\") as f:\n",
    "    json.dump(summary, f, indent=4)"
   ]
  },
  {
   "cell_type": "code",
   "execution_count": 2,
   "metadata": {},
   "outputs": [],
   "source": [
    "import json\n",
    "\n",
    "summary = {}\n",
    "with open(\"assessment_results/science/details_2000.json\") as f:\n",
    "    annotations = json.load(f)\n",
    "for item in annotations:\n",
    "    winner = item[\"raw_completion\"][8]\n",
    "    if winner != \"1\" and winner != \"2\" and winner != \"3\":\n",
    "        print(f\"Invalid winner: {winner}\")\n",
    "        continue\n",
    "    dataset = item[\"dataset_1\"]\n",
    "    winner_key = f\"generator_{winner}\"\n",
    "    if \"brief_\" in item[winner_key]:\n",
    "        winner_prompt = 1\n",
    "    elif \"brief+_\" in item[winner_key]:\n",
    "        winner_prompt = 2\n",
    "    else:\n",
    "        winner_prompt = 0\n",
    "    if dataset not in summary:\n",
    "        summary[dataset] = []\n",
    "    summary[dataset].append({\n",
    "        \"instruction\": item[\"instruction\"],\n",
    "        \"assistance_lvl\": winner_prompt,\n",
    "    })\n",
    "with open(\"summary_2000.json\", \"w\") as f:\n",
    "    json.dump(summary, f, indent=4)\n"
   ]
  },
  {
   "cell_type": "code",
   "execution_count": null,
   "metadata": {},
   "outputs": [],
   "source": []
  }
 ],
 "metadata": {
  "kernelspec": {
   "display_name": "llm",
   "language": "python",
   "name": "python3"
  },
  "language_info": {
   "codemirror_mode": {
    "name": "ipython",
    "version": 3
   },
   "file_extension": ".py",
   "mimetype": "text/x-python",
   "name": "python",
   "nbconvert_exporter": "python",
   "pygments_lexer": "ipython3",
   "version": "3.9.18"
  }
 },
 "nbformat": 4,
 "nbformat_minor": 2
}
